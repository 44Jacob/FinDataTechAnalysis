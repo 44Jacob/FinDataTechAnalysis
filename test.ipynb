{
 "cells": [
  {
   "cell_type": "code",
   "execution_count": 4,
   "id": "766137a3",
   "metadata": {},
   "outputs": [],
   "source": [
    "import nltk\n",
    "import requests\n",
    "import warnings\n",
    "from sqlalchemy import text\n",
    "from textblob import TextBlob\n",
    "from nltk.sentiment import SentimentIntensityAnalyzer\n",
    "\n",
    "import sqlite3\n",
    "\n",
    "# Data manipulation and analysis\n",
    "import numpy as np\n",
    "import pandas as pd\n",
    "from scipy.optimize import minimize\n",
    "from sqlalchemy.orm import sessionmaker\n",
    "import matplotlib.dates as mdates\n",
    "\n",
    "from datetime import datetime\n",
    "from datetime import timedelta\n",
    "\n",
    "# Financial data extraction\n",
    "import yfinance as yf\n",
    "\n",
    "# SQL Alchemy for database interaction\n",
    "from sqlalchemy import create_engine, inspect\n",
    "\n",
    "# Additional libraries for analysis or visualization\n",
    "import matplotlib.pyplot as plt\n",
    "import seaborn as sns\n",
    "from config import api_key\n",
    "\n",
    "from sklearn.metrics import mean_squared_error\n",
    "from sklearn.linear_model import LinearRegression\n",
    "from sklearn.model_selection import train_test_split"
   ]
  },
  {
   "cell_type": "code",
   "execution_count": null,
   "id": "144587be",
   "metadata": {},
   "outputs": [],
   "source": [
    "def fetch_stock_data(ticker, start_date, end_date):\n",
    "    \"\"\"\n",
    "    Fetches historical stock prices for the specified ticker within the given timeframe.\n",
    "    \"\"\"\n",
    "    stock_data = yf.download(ticker, start=start_date, end=end_date)\n",
    "    return stock_data"
   ]
  },
  {
   "cell_type": "code",
   "execution_count": null,
   "id": "bd1a3475",
   "metadata": {},
   "outputs": [],
   "source": [
    "def fetch_all_stock_data(tickers, start_date, end_date):\n",
    "    stock_data = {}\n",
    "    for ticker in tickers:\n",
    "        print(f\"Fetching data for {ticker}\")\n",
    "        stock_data[ticker] = yf.download(ticker, start=start_date, end=end_date)\n",
    "    return stock_data"
   ]
  },
  {
   "cell_type": "code",
   "execution_count": null,
   "id": "caecee13",
   "metadata": {},
   "outputs": [],
   "source": [
    "# Function to fetch headlines from NewsAPI\n",
    "def fetch_news(api_key, ticker):\n",
    "    base_url = \"https://newsapi.org/v2/everything\"\n",
    "    params = {\n",
    "        'q': ticker,             # Search query (ticker symbol)\n",
    "        'sortBy': 'publishedAt', # Sort by publication date\n",
    "        'apiKey': api_key        # Your NewsAPI key\n",
    "    }\n",
    "    response = requests.get(base_url, params=params)\n",
    "    articles = response.json().get('articles', [])\n",
    "    headlines = [article['title'] for article in articles]\n",
    "    return headlines"
   ]
  },
  {
   "cell_type": "code",
   "execution_count": null,
   "id": "2cbbba90",
   "metadata": {},
   "outputs": [],
   "source": [
    "def load_data_to_db(data, ticker):\n",
    "    \"\"\"\n",
    "    Loads transformed data into the SQLite database.\n",
    "    \"\"\"\n",
    "    engine = create_engine('sqlite:///stock_market_analysis.sqlite')\n",
    "    data.to_sql(ticker, con=engine, if_exists='replace', index=True)"
   ]
  },
  {
   "cell_type": "code",
   "execution_count": null,
   "id": "1086557a",
   "metadata": {},
   "outputs": [],
   "source": [
    "def get_avg_sentiment_scores():\n",
    "    textual_data = {}\n",
    "    tickers = ['MSFT', 'CRM', 'CRWD', 'ZM', 'SHOP', 'AAPL']\n",
    "\n",
    "    for ticker in tickers:\n",
    "        headlines = fetch_news(api_key, ticker)\n",
    "        textual_data[ticker] = headlines\n",
    "\n",
    "    # Analyzing sentiment for each headline and averaging the scores\n",
    "    average_sentiment_scores = {}\n",
    "\n",
    "    for ticker, headlines in textual_data.items():\n",
    "        sentiments = [TextBlob(headline).sentiment.polarity if headline else 0 for headline in headlines]\n",
    "        average_sentiment_scores[ticker] = np.mean(sentiments)\n",
    "\n",
    "    # Extract tickers and sentiment scores\n",
    "    tickers = list(average_sentiment_scores.keys())\n",
    "    sentiment_scores = list(average_sentiment_scores.values())\n",
    "\n",
    "    df = pd.DataFrame(sentiment_scores, tickers,['Average Sentiment Score'])\n",
    "    \n",
    "    load_data_to_db(df, 'Average_Sentiment_Score')"
   ]
  },
  {
   "cell_type": "code",
   "execution_count": null,
   "id": "deb293f9",
   "metadata": {},
   "outputs": [],
   "source": [
    "def calculate_daily_return(stock_data):\n",
    "    \"\"\"\n",
    "    Calculates the daily return from the closing prices.\n",
    "    \"\"\"\n",
    "    stock_data['Daily_Return'] = stock_data['Close'].pct_change()\n",
    "    return stock_data"
   ]
  },
  {
   "cell_type": "code",
   "execution_count": null,
   "id": "9ba3d5ec",
   "metadata": {},
   "outputs": [],
   "source": [
    "def read_data(ticker):\n",
    "    \"\"\"\n",
    "    Reads the data for the specified ticker from the SQLite database.\n",
    "    \"\"\"\n",
    "    engine = create_engine('sqlite:///stock_market_analysis.sqlite')\n",
    "    # engine = create_engine('sqlite:///stock_market_analysis.db')\n",
    "    query = f\"SELECT * FROM '{ticker}'\"\n",
    "    data = pd.read_sql_query(query, con=engine)\n",
    "    return data"
   ]
  },
  {
   "cell_type": "code",
   "execution_count": null,
   "id": "e26d89aa",
   "metadata": {},
   "outputs": [],
   "source": [
    "def predict_monthly_prices(model, last_known_price, last_known_date, months=36):\n",
    "    future_prices = []\n",
    "    future_dates = []\n",
    "    current_price = last_known_price\n",
    "    \n",
    "    for month in range(months):\n",
    "        # Approximating each month by 21 trading days\n",
    "        for day in range(21):\n",
    "            next_input = pd.DataFrame(data=[[current_price]], columns=['Previous Close'])\n",
    "            current_price = model.predict(next_input)[0]\n",
    "        \n",
    "        future_prices.append(current_price)\n",
    "        # Assuming last_known_date is a datetime object; add roughly 30 days for each month\n",
    "        last_known_date += timedelta(days=30)\n",
    "        future_dates.append(last_known_date)\n",
    "    \n",
    "    return future_dates, future_prices"
   ]
  },
  {
   "cell_type": "code",
   "execution_count": null,
   "id": "d391501f",
   "metadata": {},
   "outputs": [],
   "source": [
    "def train_model_for_ticker(ticker_data):\n",
    "    \"\"\"\n",
    "    Trains a LinearRegression model for the given ticker data.\n",
    "    \"\"\"\n",
    "    data = ticker_data[['Close']].copy()\n",
    "    data['Previous Close'] = data['Close'].shift(1)\n",
    "    data.dropna(inplace=True)  # Drop the first row which now contains NaN\n",
    "\n",
    "    X = data[['Previous Close']]  # Features\n",
    "    y = data['Close']  # Target\n",
    "\n",
    "    model = LinearRegression()\n",
    "    model.fit(X, y)  # Training the model\n",
    "    return model"
   ]
  },
  {
   "cell_type": "code",
   "execution_count": null,
   "id": "e86810e5",
   "metadata": {},
   "outputs": [],
   "source": [
    "# Objective Function (Negative Sharpe Ratio)\n",
    "def neg_sharpe_ratio(weights, expected_returns, cov_matrix, risk_free_rate=0.01):\n",
    "    p_var = np.dot(weights.T, np.dot(cov_matrix, weights))\n",
    "    p_ret = np.dot(weights, expected_returns)\n",
    "    return -(p_ret - risk_free_rate) / np.sqrt(p_var)"
   ]
  },
  {
   "cell_type": "code",
   "execution_count": null,
   "id": "39768f69",
   "metadata": {},
   "outputs": [],
   "source": [
    "def analyze_sentiment(text):\n",
    "    \"\"\"Analyze the sentiment of a text and return polarity and subjectivity.\"\"\"\n",
    "    analysis = TextBlob(text)\n",
    "    return analysis.sentiment.polarity, analysis.sentiment.subjectivity"
   ]
  },
  {
   "cell_type": "code",
   "execution_count": null,
   "id": "77ec9cfb",
   "metadata": {},
   "outputs": [],
   "source": [
    "def main():\n",
    "    tickers = ['MSFT', 'CRM', 'CRWD', 'ZM', 'SHOP', 'AAPL']\n",
    "\n",
    "    for ticker in tickers:\n",
    "        print(f\"Fetching news for: {ticker}\")\n",
    "        articles = fetch_news(api_key, ticker)\n",
    "        if articles['status'] == 'ok':\n",
    "            for article in articles['articles'][:5]:  # Show only the first 5 articles for brevity\n",
    "                description = article.get('description') or article.get('title')\n",
    "                polarity, subjectivity = analyze_sentiment(description)\n",
    "                print(f\"Ticker: {ticker}, Title: {article['title']}\")\n",
    "                print(f\"Sentiment Polarity: {polarity:.2f}, Sentiment Subjectivity: {subjectivity:.2f}\")\n",
    "                print(f\"URL: {article['url']}\\n\")\n",
    "    \n",
    "    return articles"
   ]
  },
  {
   "cell_type": "code",
   "execution_count": null,
   "id": "26df96da",
   "metadata": {},
   "outputs": [],
   "source": [
    "def fetch_data(ticker):\n",
    "    stock = yf.Ticker(ticker)\n",
    "    data = stock.history(period=\"5y\")\n",
    "    return data['Close']"
   ]
  },
  {
   "cell_type": "code",
   "execution_count": null,
   "id": "5e3addf1",
   "metadata": {},
   "outputs": [],
   "source": [
    "def calculate_parameters(tickers):\n",
    "    prices = {ticker: fetch_data(ticker) for ticker in tickers}\n",
    "    prices = pd.DataFrame(prices)\n",
    "    daily_returns = prices.pct_change()\n",
    "    annual_mean_returns = daily_returns.mean() * 252\n",
    "    annual_std_devs = daily_returns.std() * np.sqrt(252)\n",
    "    return {ticker: {'mean': annual_mean_returns[ticker], 'std': annual_std_devs[ticker]}\n",
    "            for ticker in tickers}"
   ]
  },
  {
   "cell_type": "code",
   "execution_count": 1,
   "id": "0eb2039a",
   "metadata": {},
   "outputs": [],
   "source": [
    "def calculate_expected_returns(tickers):\n",
    "    prices = pd.DataFrame({ticker: fetch_data(ticker) for ticker in tickers})\n",
    "    daily_returns = prices.pct_change()\n",
    "    average_daily_returns = daily_returns.mean()\n",
    "    annual_expected_returns = average_daily_returns * 252  # Convert to annual returns\n",
    "    return annual_expected_returns"
   ]
  },
  {
   "cell_type": "code",
   "execution_count": 6,
   "id": "ebce3ca8",
   "metadata": {},
   "outputs": [],
   "source": [
    "from sqlalchemy.orm import Session\n",
    "from sqlalchemy import inspect"
   ]
  },
  {
   "cell_type": "code",
   "execution_count": 15,
   "id": "d1e24042",
   "metadata": {},
   "outputs": [],
   "source": [
    "engine = create_engine('sqlite:///stock_market_analysis.db')"
   ]
  },
  {
   "cell_type": "code",
   "execution_count": 7,
   "id": "f306d4cc",
   "metadata": {},
   "outputs": [],
   "source": [
    "session = Session(engine)"
   ]
  },
  {
   "cell_type": "code",
   "execution_count": 13,
   "id": "2dd10b3e",
   "metadata": {},
   "outputs": [],
   "source": [
    "get_avg_sentiment_scores()"
   ]
  },
  {
   "cell_type": "code",
   "execution_count": 18,
   "id": "39d378df",
   "metadata": {},
   "outputs": [],
   "source": [
    "textual_data = {}\n",
    "tickers = ['MSFT', 'CRM', 'CRWD', 'ZM', 'SHOP', 'AAPL']\n",
    "\n",
    "for ticker in tickers:\n",
    "    headlines = fetch_news(api_key, ticker)\n",
    "    textual_data[ticker] = headlines\n",
    "\n",
    "# Analyzing sentiment for each headline and averaging the scores\n",
    "average_sentiment_scores = {}\n",
    "\n",
    "for ticker, headlines in textual_data.items():\n",
    "    sentiments = [TextBlob(headline).sentiment.polarity if headline else 0 for headline in headlines]\n",
    "    average_sentiment_scores[ticker] = np.mean(sentiments)\n",
    "\n",
    "# Extract tickers and sentiment scores\n",
    "tickers = list(average_sentiment_scores.keys())\n",
    "sentiment_scores = list(average_sentiment_scores.values())\n",
    "\n",
    "df = pd.DataFrame(sentiment_scores, tickers,['Average Sentiment Score'])\n",
    "\n",
    "load_data_to_db(df, 'Average_Sentiment_Score')"
   ]
  },
  {
   "cell_type": "code",
   "execution_count": 19,
   "id": "4c5f40a4",
   "metadata": {},
   "outputs": [
    {
     "data": {
      "text/html": [
       "<div>\n",
       "<style scoped>\n",
       "    .dataframe tbody tr th:only-of-type {\n",
       "        vertical-align: middle;\n",
       "    }\n",
       "\n",
       "    .dataframe tbody tr th {\n",
       "        vertical-align: top;\n",
       "    }\n",
       "\n",
       "    .dataframe thead th {\n",
       "        text-align: right;\n",
       "    }\n",
       "</style>\n",
       "<table border=\"1\" class=\"dataframe\">\n",
       "  <thead>\n",
       "    <tr style=\"text-align: right;\">\n",
       "      <th></th>\n",
       "      <th>Average Sentiment Score</th>\n",
       "    </tr>\n",
       "  </thead>\n",
       "  <tbody>\n",
       "    <tr>\n",
       "      <th>MSFT</th>\n",
       "      <td>0.033303</td>\n",
       "    </tr>\n",
       "    <tr>\n",
       "      <th>CRM</th>\n",
       "      <td>0.022510</td>\n",
       "    </tr>\n",
       "    <tr>\n",
       "      <th>CRWD</th>\n",
       "      <td>0.091855</td>\n",
       "    </tr>\n",
       "    <tr>\n",
       "      <th>ZM</th>\n",
       "      <td>0.020036</td>\n",
       "    </tr>\n",
       "    <tr>\n",
       "      <th>SHOP</th>\n",
       "      <td>0.168199</td>\n",
       "    </tr>\n",
       "    <tr>\n",
       "      <th>AAPL</th>\n",
       "      <td>0.019136</td>\n",
       "    </tr>\n",
       "  </tbody>\n",
       "</table>\n",
       "</div>"
      ],
      "text/plain": [
       "      Average Sentiment Score\n",
       "MSFT                 0.033303\n",
       "CRM                  0.022510\n",
       "CRWD                 0.091855\n",
       "ZM                   0.020036\n",
       "SHOP                 0.168199\n",
       "AAPL                 0.019136"
      ]
     },
     "execution_count": 19,
     "metadata": {},
     "output_type": "execute_result"
    }
   ],
   "source": [
    "df"
   ]
  },
  {
   "cell_type": "code",
   "execution_count": 5,
   "id": "98b6f906",
   "metadata": {},
   "outputs": [],
   "source": [
    "engine = create_engine('sqlite:///stock_market_analysis.sqlite')"
   ]
  },
  {
   "cell_type": "code",
   "execution_count": 6,
   "id": "c786b909",
   "metadata": {},
   "outputs": [
    {
     "data": {
      "text/plain": [
       "['AAPL', 'Average_Sentiment_Score', 'CRM', 'CRWD', 'MSFT', 'SHOP', 'ZM']"
      ]
     },
     "execution_count": 6,
     "metadata": {},
     "output_type": "execute_result"
    }
   ],
   "source": [
    "inspect(engine).get_table_names()"
   ]
  },
  {
   "cell_type": "code",
   "execution_count": 34,
   "id": "b623e366",
   "metadata": {},
   "outputs": [
    {
     "data": {
      "text/plain": [
       "6"
      ]
     },
     "execution_count": 34,
     "metadata": {},
     "output_type": "execute_result"
    }
   ],
   "source": [
    "df.to_sql(ticker, con=engine, if_exists='replace', index=True)"
   ]
  },
  {
   "cell_type": "code",
   "execution_count": 24,
   "id": "61d2f850",
   "metadata": {},
   "outputs": [
    {
     "data": {
      "text/plain": [
       "'AAPL'"
      ]
     },
     "execution_count": 24,
     "metadata": {},
     "output_type": "execute_result"
    }
   ],
   "source": [
    "ticker"
   ]
  },
  {
   "cell_type": "code",
   "execution_count": 23,
   "id": "bd6fb56b",
   "metadata": {},
   "outputs": [
    {
     "data": {
      "text/html": [
       "<div>\n",
       "<style scoped>\n",
       "    .dataframe tbody tr th:only-of-type {\n",
       "        vertical-align: middle;\n",
       "    }\n",
       "\n",
       "    .dataframe tbody tr th {\n",
       "        vertical-align: top;\n",
       "    }\n",
       "\n",
       "    .dataframe thead th {\n",
       "        text-align: right;\n",
       "    }\n",
       "</style>\n",
       "<table border=\"1\" class=\"dataframe\">\n",
       "  <thead>\n",
       "    <tr style=\"text-align: right;\">\n",
       "      <th></th>\n",
       "      <th>Average Sentiment Score</th>\n",
       "    </tr>\n",
       "  </thead>\n",
       "  <tbody>\n",
       "    <tr>\n",
       "      <th>MSFT</th>\n",
       "      <td>0.033303</td>\n",
       "    </tr>\n",
       "    <tr>\n",
       "      <th>CRM</th>\n",
       "      <td>0.022510</td>\n",
       "    </tr>\n",
       "    <tr>\n",
       "      <th>CRWD</th>\n",
       "      <td>0.091855</td>\n",
       "    </tr>\n",
       "    <tr>\n",
       "      <th>ZM</th>\n",
       "      <td>0.020036</td>\n",
       "    </tr>\n",
       "    <tr>\n",
       "      <th>SHOP</th>\n",
       "      <td>0.168199</td>\n",
       "    </tr>\n",
       "    <tr>\n",
       "      <th>AAPL</th>\n",
       "      <td>0.019136</td>\n",
       "    </tr>\n",
       "  </tbody>\n",
       "</table>\n",
       "</div>"
      ],
      "text/plain": [
       "      Average Sentiment Score\n",
       "MSFT                 0.033303\n",
       "CRM                  0.022510\n",
       "CRWD                 0.091855\n",
       "ZM                   0.020036\n",
       "SHOP                 0.168199\n",
       "AAPL                 0.019136"
      ]
     },
     "execution_count": 23,
     "metadata": {},
     "output_type": "execute_result"
    }
   ],
   "source": [
    "df"
   ]
  },
  {
   "cell_type": "code",
   "execution_count": 38,
   "id": "88bf71f1",
   "metadata": {},
   "outputs": [],
   "source": [
    "session = Session(engine)"
   ]
  },
  {
   "cell_type": "code",
   "execution_count": 45,
   "id": "0128a7c8",
   "metadata": {},
   "outputs": [
    {
     "data": {
      "text/html": [
       "<div>\n",
       "<style scoped>\n",
       "    .dataframe tbody tr th:only-of-type {\n",
       "        vertical-align: middle;\n",
       "    }\n",
       "\n",
       "    .dataframe tbody tr th {\n",
       "        vertical-align: top;\n",
       "    }\n",
       "\n",
       "    .dataframe thead th {\n",
       "        text-align: right;\n",
       "    }\n",
       "</style>\n",
       "<table border=\"1\" class=\"dataframe\">\n",
       "  <thead>\n",
       "    <tr style=\"text-align: right;\">\n",
       "      <th></th>\n",
       "      <th>date</th>\n",
       "      <th>open</th>\n",
       "      <th>high</th>\n",
       "      <th>low</th>\n",
       "      <th>close</th>\n",
       "      <th>volume</th>\n",
       "    </tr>\n",
       "  </thead>\n",
       "  <tbody>\n",
       "  </tbody>\n",
       "</table>\n",
       "</div>"
      ],
      "text/plain": [
       "Empty DataFrame\n",
       "Columns: [date, open, high, low, close, volume]\n",
       "Index: []"
      ]
     },
     "execution_count": 45,
     "metadata": {},
     "output_type": "execute_result"
    }
   ],
   "source": [
    "pd.read_sql('SELECT * FROM CRM', engine)"
   ]
  },
  {
   "cell_type": "code",
   "execution_count": 43,
   "id": "faee748b",
   "metadata": {},
   "outputs": [
    {
     "data": {
      "text/plain": [
       "[('MSFT', 0.0333031746031746),\n",
       " ('CRM', 0.022509740259740257),\n",
       " ('CRWD', 0.09185533910533909),\n",
       " ('ZM', 0.0213996558996559),\n",
       " ('SHOP', 0.12842676767676767),\n",
       " ('AAPL', 0.01913567821067821)]"
      ]
     },
     "execution_count": 43,
     "metadata": {},
     "output_type": "execute_result"
    }
   ],
   "source": [
    "session.execute('SELECT * FROM Average_Sentiment_Score').fetchall()"
   ]
  },
  {
   "cell_type": "code",
   "execution_count": 8,
   "id": "c8dc2059",
   "metadata": {},
   "outputs": [
    {
     "ename": "TypeError",
     "evalue": "expected str, bytes or os.PathLike object, not Engine",
     "output_type": "error",
     "traceback": [
      "\u001b[0;31m---------------------------------------------------------------------------\u001b[0m",
      "\u001b[0;31mTypeError\u001b[0m                                 Traceback (most recent call last)",
      "Cell \u001b[0;32mIn[8], line 1\u001b[0m\n\u001b[0;32m----> 1\u001b[0m con \u001b[38;5;241m=\u001b[39m sqlite3\u001b[38;5;241m.\u001b[39mconnect(engine)\n",
      "\u001b[0;31mTypeError\u001b[0m: expected str, bytes or os.PathLike object, not Engine"
     ]
    }
   ],
   "source": [
    "con = sqlite3.connect(engine)"
   ]
  },
  {
   "cell_type": "code",
   "execution_count": 4,
   "id": "3837d58b",
   "metadata": {},
   "outputs": [
    {
     "ename": "NameError",
     "evalue": "name 'engine' is not defined",
     "output_type": "error",
     "traceback": [
      "\u001b[0;31m---------------------------------------------------------------------------\u001b[0m",
      "\u001b[0;31mNameError\u001b[0m                                 Traceback (most recent call last)",
      "Cell \u001b[0;32mIn[4], line 1\u001b[0m\n\u001b[0;32m----> 1\u001b[0m sqlite3\u001b[38;5;241m.\u001b[39mCursor(engine)\n",
      "\u001b[0;31mNameError\u001b[0m: name 'engine' is not defined"
     ]
    }
   ],
   "source": [
    "    # engine = create_engine('sqlite:///stock_market_analysis.db')\n",
    "    query = f\"SELECT * FROM '{ticker}'\"\n",
    "    data = pd.read_sql_query(query, con=engine)\n",
    "    return data"
   ]
  },
  {
   "cell_type": "code",
   "execution_count": 32,
   "id": "fcbd15cf",
   "metadata": {},
   "outputs": [
    {
     "data": {
      "text/plain": [
       "'{\"index\":{\"0\":\"MSFT\",\"1\":\"CRM\",\"2\":\"CRWD\",\"3\":\"ZM\",\"4\":\"SHOP\",\"5\":\"AAPL\"},\"Average Sentiment Score\":{\"0\":0.0333031746,\"1\":0.0225097403,\"2\":0.0918553391,\"3\":0.0200360195,\"4\":0.1681994949,\"5\":0.0191356782}}'"
      ]
     },
     "execution_count": 32,
     "metadata": {},
     "output_type": "execute_result"
    }
   ],
   "source": [
    "read_data('Average_Sentiment_Score').to_json()"
   ]
  },
  {
   "cell_type": "code",
   "execution_count": 16,
   "id": "5ab8b57b",
   "metadata": {},
   "outputs": [
    {
     "ename": "SyntaxError",
     "evalue": "'return' outside function (828057532.py, line 2)",
     "output_type": "error",
     "traceback": [
      "\u001b[0;36m  Cell \u001b[0;32mIn[16], line 2\u001b[0;36m\u001b[0m\n\u001b[0;31m    return f(*args, **kwargs)\u001b[0m\n\u001b[0m    ^\u001b[0m\n\u001b[0;31mSyntaxError\u001b[0m\u001b[0;31m:\u001b[0m 'return' outside function\n"
     ]
    }
   ],
   "source": [
    "if request.args.get('api_key') and request.args['api_key'] == '4497341d87444fddb894bbc281c9f9f8':\n",
    "    return f(*args, **kwargs)\n",
    "else:\n",
    "    return jsonify({\"error\": \"Authentication required\"}), 403\n"
   ]
  },
  {
   "cell_type": "code",
   "execution_count": null,
   "id": "23c1abe0",
   "metadata": {},
   "outputs": [],
   "source": []
  }
 ],
 "metadata": {
  "kernelspec": {
   "display_name": "Python (dev)",
   "language": "python",
   "name": "dev"
  },
  "language_info": {
   "codemirror_mode": {
    "name": "ipython",
    "version": 3
   },
   "file_extension": ".py",
   "mimetype": "text/x-python",
   "name": "python",
 